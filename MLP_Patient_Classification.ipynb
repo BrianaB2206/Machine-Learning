{
 "cells": [
  {
   "cell_type": "code",
   "execution_count": 136,
   "id": "c42a7166",
   "metadata": {},
   "outputs": [],
   "source": [
    "import numpy as np\n",
    "import pandas as pd\n",
    "import seaborn as sb\n",
    "import matplotlib.pyplot as plt\n",
    "import sklearn as sklearn\n",
    "from sklearn.model_selection import train_test_split\n",
    "from sklearn import metrics\n",
    "from IPython.display import clear_output\n",
    "from sklearn.metrics import roc_curve, roc_auc_score, auc\n",
    "from tensorflow import feature_column\n",
    "from tensorflow import keras"
   ]
  },
  {
   "cell_type": "code",
   "execution_count": 162,
   "id": "ea0e379a",
   "metadata": {},
   "outputs": [],
   "source": [
    "pd.set_option(\"display.max_columns\", None)\n",
    "pd.set_option(\"display.max_rows\", None)"
   ]
  },
  {
   "cell_type": "code",
   "execution_count": 207,
   "id": "1e59444e",
   "metadata": {},
   "outputs": [],
   "source": [
    "data_train = pd.read_csv('data_antrenare.csv')"
   ]
  },
  {
   "cell_type": "code",
   "execution_count": 208,
   "id": "a9734100",
   "metadata": {},
   "outputs": [],
   "source": [
    "data_test = pd.read_csv('date_testare.csv')"
   ]
  },
  {
   "cell_type": "code",
   "execution_count": 209,
   "id": "088b8ce2",
   "metadata": {},
   "outputs": [
    {
     "data": {
      "text/html": [
       "<div>\n",
       "<style scoped>\n",
       "    .dataframe tbody tr th:only-of-type {\n",
       "        vertical-align: middle;\n",
       "    }\n",
       "\n",
       "    .dataframe tbody tr th {\n",
       "        vertical-align: top;\n",
       "    }\n",
       "\n",
       "    .dataframe thead th {\n",
       "        text-align: right;\n",
       "    }\n",
       "</style>\n",
       "<table border=\"1\" class=\"dataframe\">\n",
       "  <thead>\n",
       "    <tr style=\"text-align: right;\">\n",
       "      <th></th>\n",
       "      <th>Nr. crt</th>\n",
       "      <th>Systolic pressure (mmHg)</th>\n",
       "      <th>Diastolic pressure</th>\n",
       "      <th>BPM</th>\n",
       "      <th>Heart attack</th>\n",
       "    </tr>\n",
       "  </thead>\n",
       "  <tbody>\n",
       "    <tr>\n",
       "      <th>0</th>\n",
       "      <td>NaN</td>\n",
       "      <td>NaN</td>\n",
       "      <td>(mmHg)</td>\n",
       "      <td>NaN</td>\n",
       "      <td>NaN</td>\n",
       "    </tr>\n",
       "    <tr>\n",
       "      <th>1</th>\n",
       "      <td>1.0</td>\n",
       "      <td>120.0</td>\n",
       "      <td>80</td>\n",
       "      <td>70.0</td>\n",
       "      <td>0.0</td>\n",
       "    </tr>\n",
       "    <tr>\n",
       "      <th>2</th>\n",
       "      <td>2.0</td>\n",
       "      <td>160.0</td>\n",
       "      <td>110</td>\n",
       "      <td>180.0</td>\n",
       "      <td>1.0</td>\n",
       "    </tr>\n",
       "    <tr>\n",
       "      <th>3</th>\n",
       "      <td>3.0</td>\n",
       "      <td>165.0</td>\n",
       "      <td>90</td>\n",
       "      <td>110.0</td>\n",
       "      <td>0.0</td>\n",
       "    </tr>\n",
       "    <tr>\n",
       "      <th>4</th>\n",
       "      <td>4.0</td>\n",
       "      <td>180.0</td>\n",
       "      <td>130</td>\n",
       "      <td>150.0</td>\n",
       "      <td>1.0</td>\n",
       "    </tr>\n",
       "  </tbody>\n",
       "</table>\n",
       "</div>"
      ],
      "text/plain": [
       "   Nr. crt  Systolic pressure (mmHg) Diastolic pressure    BPM  Heart attack\n",
       "0      NaN                       NaN             (mmHg)    NaN           NaN\n",
       "1      1.0                     120.0                 80   70.0           0.0\n",
       "2      2.0                     160.0                110  180.0           1.0\n",
       "3      3.0                     165.0                 90  110.0           0.0\n",
       "4      4.0                     180.0                130  150.0           1.0"
      ]
     },
     "execution_count": 209,
     "metadata": {},
     "output_type": "execute_result"
    }
   ],
   "source": [
    "data_train.head()"
   ]
  },
  {
   "cell_type": "code",
   "execution_count": 210,
   "id": "1c489ce3",
   "metadata": {},
   "outputs": [],
   "source": [
    "data_train=data_train.drop(\"Nr. crt\", axis='columns')"
   ]
  },
  {
   "cell_type": "code",
   "execution_count": 211,
   "id": "8a83cb56",
   "metadata": {},
   "outputs": [],
   "source": [
    "data_train=data_train.drop(0, axis=0)"
   ]
  },
  {
   "cell_type": "code",
   "execution_count": 212,
   "id": "13a7d7be",
   "metadata": {},
   "outputs": [
    {
     "data": {
      "text/html": [
       "<div>\n",
       "<style scoped>\n",
       "    .dataframe tbody tr th:only-of-type {\n",
       "        vertical-align: middle;\n",
       "    }\n",
       "\n",
       "    .dataframe tbody tr th {\n",
       "        vertical-align: top;\n",
       "    }\n",
       "\n",
       "    .dataframe thead th {\n",
       "        text-align: right;\n",
       "    }\n",
       "</style>\n",
       "<table border=\"1\" class=\"dataframe\">\n",
       "  <thead>\n",
       "    <tr style=\"text-align: right;\">\n",
       "      <th></th>\n",
       "      <th>Systolic pressure (mmHg)</th>\n",
       "      <th>Diastolic pressure</th>\n",
       "      <th>BPM</th>\n",
       "      <th>Heart attack</th>\n",
       "    </tr>\n",
       "  </thead>\n",
       "  <tbody>\n",
       "    <tr>\n",
       "      <th>1</th>\n",
       "      <td>120.0</td>\n",
       "      <td>80</td>\n",
       "      <td>70.0</td>\n",
       "      <td>0.0</td>\n",
       "    </tr>\n",
       "    <tr>\n",
       "      <th>2</th>\n",
       "      <td>160.0</td>\n",
       "      <td>110</td>\n",
       "      <td>180.0</td>\n",
       "      <td>1.0</td>\n",
       "    </tr>\n",
       "    <tr>\n",
       "      <th>3</th>\n",
       "      <td>165.0</td>\n",
       "      <td>90</td>\n",
       "      <td>110.0</td>\n",
       "      <td>0.0</td>\n",
       "    </tr>\n",
       "    <tr>\n",
       "      <th>4</th>\n",
       "      <td>180.0</td>\n",
       "      <td>130</td>\n",
       "      <td>150.0</td>\n",
       "      <td>1.0</td>\n",
       "    </tr>\n",
       "    <tr>\n",
       "      <th>5</th>\n",
       "      <td>190.0</td>\n",
       "      <td>88</td>\n",
       "      <td>68.0</td>\n",
       "      <td>0.0</td>\n",
       "    </tr>\n",
       "  </tbody>\n",
       "</table>\n",
       "</div>"
      ],
      "text/plain": [
       "   Systolic pressure (mmHg) Diastolic pressure    BPM  Heart attack\n",
       "1                     120.0                 80   70.0           0.0\n",
       "2                     160.0                110  180.0           1.0\n",
       "3                     165.0                 90  110.0           0.0\n",
       "4                     180.0                130  150.0           1.0\n",
       "5                     190.0                 88   68.0           0.0"
      ]
     },
     "execution_count": 212,
     "metadata": {},
     "output_type": "execute_result"
    }
   ],
   "source": [
    "data_train.head()"
   ]
  },
  {
   "cell_type": "code",
   "execution_count": 213,
   "id": "451164d4",
   "metadata": {},
   "outputs": [],
   "source": [
    "#data_train = data_train.apply(pd.to_numeric, errors='coerce')"
   ]
  },
  {
   "cell_type": "code",
   "execution_count": 214,
   "id": "237d3888",
   "metadata": {},
   "outputs": [
    {
     "data": {
      "text/html": [
       "<div>\n",
       "<style scoped>\n",
       "    .dataframe tbody tr th:only-of-type {\n",
       "        vertical-align: middle;\n",
       "    }\n",
       "\n",
       "    .dataframe tbody tr th {\n",
       "        vertical-align: top;\n",
       "    }\n",
       "\n",
       "    .dataframe thead th {\n",
       "        text-align: right;\n",
       "    }\n",
       "</style>\n",
       "<table border=\"1\" class=\"dataframe\">\n",
       "  <thead>\n",
       "    <tr style=\"text-align: right;\">\n",
       "      <th></th>\n",
       "      <th>Nr. crt</th>\n",
       "      <th>Systolic pressure (mmHg)</th>\n",
       "      <th>Diastolic pressure</th>\n",
       "      <th>BPM</th>\n",
       "      <th>Heart attack</th>\n",
       "    </tr>\n",
       "  </thead>\n",
       "  <tbody>\n",
       "    <tr>\n",
       "      <th>0</th>\n",
       "      <td>NaN</td>\n",
       "      <td>NaN</td>\n",
       "      <td>(mmHg)</td>\n",
       "      <td>NaN</td>\n",
       "      <td>NaN</td>\n",
       "    </tr>\n",
       "    <tr>\n",
       "      <th>1</th>\n",
       "      <td>1.0</td>\n",
       "      <td>122.0</td>\n",
       "      <td>80</td>\n",
       "      <td>70.0</td>\n",
       "      <td>0.0</td>\n",
       "    </tr>\n",
       "    <tr>\n",
       "      <th>2</th>\n",
       "      <td>2.0</td>\n",
       "      <td>153.0</td>\n",
       "      <td>110</td>\n",
       "      <td>180.0</td>\n",
       "      <td>1.0</td>\n",
       "    </tr>\n",
       "    <tr>\n",
       "      <th>3</th>\n",
       "      <td>3.0</td>\n",
       "      <td>162.0</td>\n",
       "      <td>90</td>\n",
       "      <td>110.0</td>\n",
       "      <td>0.0</td>\n",
       "    </tr>\n",
       "    <tr>\n",
       "      <th>4</th>\n",
       "      <td>4.0</td>\n",
       "      <td>183.0</td>\n",
       "      <td>130</td>\n",
       "      <td>150.0</td>\n",
       "      <td>1.0</td>\n",
       "    </tr>\n",
       "  </tbody>\n",
       "</table>\n",
       "</div>"
      ],
      "text/plain": [
       "   Nr. crt  Systolic pressure (mmHg) Diastolic pressure    BPM  Heart attack\n",
       "0      NaN                       NaN             (mmHg)    NaN           NaN\n",
       "1      1.0                     122.0                 80   70.0           0.0\n",
       "2      2.0                     153.0                110  180.0           1.0\n",
       "3      3.0                     162.0                 90  110.0           0.0\n",
       "4      4.0                     183.0                130  150.0           1.0"
      ]
     },
     "execution_count": 214,
     "metadata": {},
     "output_type": "execute_result"
    }
   ],
   "source": [
    "data_test.head()"
   ]
  },
  {
   "cell_type": "code",
   "execution_count": 215,
   "id": "78e7d2cc",
   "metadata": {},
   "outputs": [],
   "source": [
    "data_test=data_test.drop(\"Nr. crt\", axis='columns')"
   ]
  },
  {
   "cell_type": "code",
   "execution_count": 216,
   "id": "91dc0f96",
   "metadata": {},
   "outputs": [],
   "source": [
    "data_test=data_test.drop(0, axis=0)"
   ]
  },
  {
   "cell_type": "code",
   "execution_count": 217,
   "id": "75e43717",
   "metadata": {},
   "outputs": [
    {
     "data": {
      "text/html": [
       "<div>\n",
       "<style scoped>\n",
       "    .dataframe tbody tr th:only-of-type {\n",
       "        vertical-align: middle;\n",
       "    }\n",
       "\n",
       "    .dataframe tbody tr th {\n",
       "        vertical-align: top;\n",
       "    }\n",
       "\n",
       "    .dataframe thead th {\n",
       "        text-align: right;\n",
       "    }\n",
       "</style>\n",
       "<table border=\"1\" class=\"dataframe\">\n",
       "  <thead>\n",
       "    <tr style=\"text-align: right;\">\n",
       "      <th></th>\n",
       "      <th>Systolic pressure (mmHg)</th>\n",
       "      <th>Diastolic pressure</th>\n",
       "      <th>BPM</th>\n",
       "      <th>Heart attack</th>\n",
       "    </tr>\n",
       "  </thead>\n",
       "  <tbody>\n",
       "    <tr>\n",
       "      <th>1</th>\n",
       "      <td>122.0</td>\n",
       "      <td>80</td>\n",
       "      <td>70.0</td>\n",
       "      <td>0.0</td>\n",
       "    </tr>\n",
       "    <tr>\n",
       "      <th>2</th>\n",
       "      <td>153.0</td>\n",
       "      <td>110</td>\n",
       "      <td>180.0</td>\n",
       "      <td>1.0</td>\n",
       "    </tr>\n",
       "    <tr>\n",
       "      <th>3</th>\n",
       "      <td>162.0</td>\n",
       "      <td>90</td>\n",
       "      <td>110.0</td>\n",
       "      <td>0.0</td>\n",
       "    </tr>\n",
       "    <tr>\n",
       "      <th>4</th>\n",
       "      <td>183.0</td>\n",
       "      <td>130</td>\n",
       "      <td>150.0</td>\n",
       "      <td>1.0</td>\n",
       "    </tr>\n",
       "    <tr>\n",
       "      <th>5</th>\n",
       "      <td>188.0</td>\n",
       "      <td>85</td>\n",
       "      <td>68.0</td>\n",
       "      <td>0.0</td>\n",
       "    </tr>\n",
       "  </tbody>\n",
       "</table>\n",
       "</div>"
      ],
      "text/plain": [
       "   Systolic pressure (mmHg) Diastolic pressure    BPM  Heart attack\n",
       "1                     122.0                 80   70.0           0.0\n",
       "2                     153.0                110  180.0           1.0\n",
       "3                     162.0                 90  110.0           0.0\n",
       "4                     183.0                130  150.0           1.0\n",
       "5                     188.0                 85   68.0           0.0"
      ]
     },
     "execution_count": 217,
     "metadata": {},
     "output_type": "execute_result"
    }
   ],
   "source": [
    "data_test.head()"
   ]
  },
  {
   "cell_type": "code",
   "execution_count": 218,
   "id": "9c0a5d34",
   "metadata": {},
   "outputs": [],
   "source": [
    "data_train = data_train.astype(float)"
   ]
  },
  {
   "cell_type": "code",
   "execution_count": 225,
   "id": "9ab1fad0",
   "metadata": {},
   "outputs": [],
   "source": [
    "x = data_train.drop(\"Heart attack\", axis='columns')\n",
    "y = data_train['Heart attack']"
   ]
  },
  {
   "cell_type": "code",
   "execution_count": 226,
   "id": "4c722f31",
   "metadata": {},
   "outputs": [],
   "source": [
    "x_train, x_test, y_train, y_test = train_test_split(x, y, test_size=0.3, random_state=42)"
   ]
  },
  {
   "cell_type": "code",
   "execution_count": 227,
   "id": "7f3b47b6",
   "metadata": {},
   "outputs": [],
   "source": [
    "model = keras.Sequential([\n",
    "    keras.layers.Dense(25, activation='relu', input_shape=(3,)),\n",
    "    keras.layers.Dense(1, activation='sigmoid')\n",
    "])"
   ]
  },
  {
   "cell_type": "code",
   "execution_count": 228,
   "id": "bafcd56f",
   "metadata": {},
   "outputs": [],
   "source": [
    "model.compile(optimizer='adam', loss='binary_crossentropy', metrics=['accuracy'])"
   ]
  },
  {
   "cell_type": "code",
   "execution_count": 229,
   "id": "307e2880",
   "metadata": {},
   "outputs": [
    {
     "name": "stdout",
     "output_type": "stream",
     "text": [
      "Epoch 1/50\n",
      "1/1 [==============================] - 1s 860ms/step - loss: 2.7764 - accuracy: 0.4848 - val_loss: 1.5117 - val_accuracy: 0.7778\n",
      "Epoch 2/50\n",
      "1/1 [==============================] - 0s 23ms/step - loss: 1.8042 - accuracy: 0.5455 - val_loss: 1.2311 - val_accuracy: 0.5556\n",
      "Epoch 3/50\n",
      "1/1 [==============================] - 0s 26ms/step - loss: 1.3426 - accuracy: 0.5455 - val_loss: 1.3100 - val_accuracy: 0.3333\n",
      "Epoch 4/50\n",
      "1/1 [==============================] - 0s 24ms/step - loss: 1.2676 - accuracy: 0.6667 - val_loss: 1.6057 - val_accuracy: 0.2222\n",
      "Epoch 5/50\n",
      "1/1 [==============================] - 0s 24ms/step - loss: 1.4034 - accuracy: 0.6364 - val_loss: 1.8635 - val_accuracy: 0.2222\n",
      "Epoch 6/50\n",
      "1/1 [==============================] - 0s 34ms/step - loss: 1.5490 - accuracy: 0.6364 - val_loss: 1.9866 - val_accuracy: 0.3333\n",
      "Epoch 7/50\n",
      "1/1 [==============================] - 0s 30ms/step - loss: 1.6237 - accuracy: 0.6061 - val_loss: 1.9648 - val_accuracy: 0.3333\n",
      "Epoch 8/50\n",
      "1/1 [==============================] - 0s 33ms/step - loss: 1.6211 - accuracy: 0.6061 - val_loss: 1.8245 - val_accuracy: 0.3333\n",
      "Epoch 9/50\n",
      "1/1 [==============================] - 0s 25ms/step - loss: 1.5561 - accuracy: 0.6364 - val_loss: 1.6061 - val_accuracy: 0.2222\n",
      "Epoch 10/50\n",
      "1/1 [==============================] - 0s 28ms/step - loss: 1.4494 - accuracy: 0.6667 - val_loss: 1.3576 - val_accuracy: 0.2222\n",
      "Epoch 11/50\n",
      "1/1 [==============================] - 0s 22ms/step - loss: 1.3266 - accuracy: 0.6364 - val_loss: 1.1346 - val_accuracy: 0.3333\n",
      "Epoch 12/50\n",
      "1/1 [==============================] - 0s 21ms/step - loss: 1.2177 - accuracy: 0.6667 - val_loss: 0.9879 - val_accuracy: 0.4444\n",
      "Epoch 13/50\n",
      "1/1 [==============================] - 0s 23ms/step - loss: 1.1543 - accuracy: 0.6061 - val_loss: 0.9352 - val_accuracy: 0.4444\n",
      "Epoch 14/50\n",
      "1/1 [==============================] - 0s 21ms/step - loss: 1.1505 - accuracy: 0.6061 - val_loss: 0.9449 - val_accuracy: 0.5556\n",
      "Epoch 15/50\n",
      "1/1 [==============================] - 0s 24ms/step - loss: 1.1893 - accuracy: 0.5758 - val_loss: 0.9683 - val_accuracy: 0.7778\n",
      "Epoch 16/50\n",
      "1/1 [==============================] - 0s 20ms/step - loss: 1.2355 - accuracy: 0.5758 - val_loss: 0.9701 - val_accuracy: 0.7778\n",
      "Epoch 17/50\n",
      "1/1 [==============================] - 0s 22ms/step - loss: 1.2562 - accuracy: 0.6061 - val_loss: 0.9369 - val_accuracy: 0.7778\n",
      "Epoch 18/50\n",
      "1/1 [==============================] - 0s 25ms/step - loss: 1.2377 - accuracy: 0.6061 - val_loss: 0.8739 - val_accuracy: 0.7778\n",
      "Epoch 19/50\n",
      "1/1 [==============================] - 0s 26ms/step - loss: 1.1880 - accuracy: 0.5758 - val_loss: 0.7982 - val_accuracy: 0.7778\n",
      "Epoch 20/50\n",
      "1/1 [==============================] - 0s 21ms/step - loss: 1.1286 - accuracy: 0.5455 - val_loss: 0.7324 - val_accuracy: 0.5556\n",
      "Epoch 21/50\n",
      "1/1 [==============================] - 0s 30ms/step - loss: 1.0825 - accuracy: 0.6364 - val_loss: 0.6957 - val_accuracy: 0.5556\n",
      "Epoch 22/50\n",
      "1/1 [==============================] - 0s 26ms/step - loss: 1.0636 - accuracy: 0.6364 - val_loss: 0.6919 - val_accuracy: 0.5556\n",
      "Epoch 23/50\n",
      "1/1 [==============================] - 0s 23ms/step - loss: 1.0707 - accuracy: 0.6364 - val_loss: 0.7057 - val_accuracy: 0.5556\n",
      "Epoch 24/50\n",
      "1/1 [==============================] - 0s 25ms/step - loss: 1.0884 - accuracy: 0.6364 - val_loss: 0.7151 - val_accuracy: 0.5556\n",
      "Epoch 25/50\n",
      "1/1 [==============================] - 0s 25ms/step - loss: 1.1013 - accuracy: 0.6667 - val_loss: 0.7053 - val_accuracy: 0.5556\n",
      "Epoch 26/50\n",
      "1/1 [==============================] - 0s 25ms/step - loss: 1.1009 - accuracy: 0.6667 - val_loss: 0.6736 - val_accuracy: 0.5556\n",
      "Epoch 27/50\n",
      "1/1 [==============================] - 0s 23ms/step - loss: 1.0857 - accuracy: 0.6667 - val_loss: 0.6280 - val_accuracy: 0.5556\n",
      "Epoch 28/50\n",
      "1/1 [==============================] - 0s 27ms/step - loss: 1.0604 - accuracy: 0.6364 - val_loss: 0.5826 - val_accuracy: 0.5556\n",
      "Epoch 29/50\n",
      "1/1 [==============================] - 0s 25ms/step - loss: 1.0329 - accuracy: 0.6364 - val_loss: 0.5512 - val_accuracy: 0.6667\n",
      "Epoch 30/50\n",
      "1/1 [==============================] - 0s 21ms/step - loss: 1.0123 - accuracy: 0.6364 - val_loss: 0.5398 - val_accuracy: 0.6667\n",
      "Epoch 31/50\n",
      "1/1 [==============================] - 0s 26ms/step - loss: 1.0044 - accuracy: 0.6364 - val_loss: 0.5432 - val_accuracy: 0.7778\n",
      "Epoch 32/50\n",
      "1/1 [==============================] - 0s 27ms/step - loss: 1.0078 - accuracy: 0.6364 - val_loss: 0.5492 - val_accuracy: 0.7778\n",
      "Epoch 33/50\n",
      "1/1 [==============================] - 0s 26ms/step - loss: 1.0141 - accuracy: 0.6061 - val_loss: 0.5470 - val_accuracy: 0.7778\n",
      "Epoch 34/50\n",
      "1/1 [==============================] - 0s 26ms/step - loss: 1.0140 - accuracy: 0.6061 - val_loss: 0.5328 - val_accuracy: 0.7778\n",
      "Epoch 35/50\n",
      "1/1 [==============================] - 0s 22ms/step - loss: 1.0035 - accuracy: 0.5758 - val_loss: 0.5106 - val_accuracy: 0.7778\n",
      "Epoch 36/50\n",
      "1/1 [==============================] - 0s 23ms/step - loss: 0.9861 - accuracy: 0.6364 - val_loss: 0.4894 - val_accuracy: 0.7778\n",
      "Epoch 37/50\n",
      "1/1 [==============================] - 0s 22ms/step - loss: 0.9690 - accuracy: 0.6667 - val_loss: 0.4773 - val_accuracy: 0.7778\n",
      "Epoch 38/50\n",
      "1/1 [==============================] - 0s 25ms/step - loss: 0.9581 - accuracy: 0.6364 - val_loss: 0.4762 - val_accuracy: 0.7778\n",
      "Epoch 39/50\n",
      "1/1 [==============================] - 0s 24ms/step - loss: 0.9542 - accuracy: 0.6667 - val_loss: 0.4816 - val_accuracy: 0.6667\n",
      "Epoch 40/50\n",
      "1/1 [==============================] - 0s 24ms/step - loss: 0.9535 - accuracy: 0.6364 - val_loss: 0.4861 - val_accuracy: 0.7778\n",
      "Epoch 41/50\n",
      "1/1 [==============================] - 0s 25ms/step - loss: 0.9515 - accuracy: 0.6667 - val_loss: 0.4847 - val_accuracy: 0.7778\n",
      "Epoch 42/50\n",
      "1/1 [==============================] - 0s 24ms/step - loss: 0.9452 - accuracy: 0.6667 - val_loss: 0.4770 - val_accuracy: 0.7778\n",
      "Epoch 43/50\n",
      "1/1 [==============================] - 0s 26ms/step - loss: 0.9348 - accuracy: 0.6667 - val_loss: 0.4663 - val_accuracy: 0.7778\n",
      "Epoch 44/50\n",
      "1/1 [==============================] - 0s 25ms/step - loss: 0.9225 - accuracy: 0.6667 - val_loss: 0.4572 - val_accuracy: 0.7778\n",
      "Epoch 45/50\n",
      "1/1 [==============================] - 0s 24ms/step - loss: 0.9120 - accuracy: 0.6667 - val_loss: 0.4525 - val_accuracy: 0.7778\n",
      "Epoch 46/50\n",
      "1/1 [==============================] - 0s 27ms/step - loss: 0.9054 - accuracy: 0.6667 - val_loss: 0.4517 - val_accuracy: 0.7778\n",
      "Epoch 47/50\n",
      "1/1 [==============================] - 0s 25ms/step - loss: 0.9019 - accuracy: 0.6364 - val_loss: 0.4521 - val_accuracy: 0.7778\n",
      "Epoch 48/50\n",
      "1/1 [==============================] - 0s 26ms/step - loss: 0.8987 - accuracy: 0.6364 - val_loss: 0.4512 - val_accuracy: 0.7778\n",
      "Epoch 49/50\n",
      "1/1 [==============================] - 0s 23ms/step - loss: 0.8931 - accuracy: 0.6364 - val_loss: 0.4490 - val_accuracy: 0.8889\n",
      "Epoch 50/50\n",
      "1/1 [==============================] - 0s 24ms/step - loss: 0.8848 - accuracy: 0.6364 - val_loss: 0.4479 - val_accuracy: 0.7778\n"
     ]
    }
   ],
   "source": [
    "history = model.fit(x_train, y_train, epochs=50, batch_size=50, validation_split=0.2)\n"
   ]
  },
  {
   "cell_type": "code",
   "execution_count": 230,
   "id": "057640cb",
   "metadata": {},
   "outputs": [
    {
     "name": "stdout",
     "output_type": "stream",
     "text": [
      "1/1 [==============================] - 0s 18ms/step - loss: 1.0946 - accuracy: 0.6111\n",
      "Test accuracy: 0.6111111044883728\n"
     ]
    }
   ],
   "source": [
    "test_loss, test_acc = model.evaluate(x_test, y_test)\n",
    "print('Test accuracy:', test_acc)"
   ]
  },
  {
   "cell_type": "code",
   "execution_count": 231,
   "id": "0d5942aa",
   "metadata": {},
   "outputs": [],
   "source": [
    "data_test = data_test.astype(float)"
   ]
  },
  {
   "cell_type": "code",
   "execution_count": 232,
   "id": "3086cca6",
   "metadata": {},
   "outputs": [
    {
     "data": {
      "text/html": [
       "<div>\n",
       "<style scoped>\n",
       "    .dataframe tbody tr th:only-of-type {\n",
       "        vertical-align: middle;\n",
       "    }\n",
       "\n",
       "    .dataframe tbody tr th {\n",
       "        vertical-align: top;\n",
       "    }\n",
       "\n",
       "    .dataframe thead th {\n",
       "        text-align: right;\n",
       "    }\n",
       "</style>\n",
       "<table border=\"1\" class=\"dataframe\">\n",
       "  <thead>\n",
       "    <tr style=\"text-align: right;\">\n",
       "      <th></th>\n",
       "      <th>Systolic pressure (mmHg)</th>\n",
       "      <th>Diastolic pressure</th>\n",
       "      <th>BPM</th>\n",
       "      <th>Heart attack</th>\n",
       "    </tr>\n",
       "  </thead>\n",
       "  <tbody>\n",
       "    <tr>\n",
       "      <th>1</th>\n",
       "      <td>122.0</td>\n",
       "      <td>80.0</td>\n",
       "      <td>70.0</td>\n",
       "      <td>0.0</td>\n",
       "    </tr>\n",
       "    <tr>\n",
       "      <th>2</th>\n",
       "      <td>153.0</td>\n",
       "      <td>110.0</td>\n",
       "      <td>180.0</td>\n",
       "      <td>1.0</td>\n",
       "    </tr>\n",
       "    <tr>\n",
       "      <th>3</th>\n",
       "      <td>162.0</td>\n",
       "      <td>90.0</td>\n",
       "      <td>110.0</td>\n",
       "      <td>0.0</td>\n",
       "    </tr>\n",
       "    <tr>\n",
       "      <th>4</th>\n",
       "      <td>183.0</td>\n",
       "      <td>130.0</td>\n",
       "      <td>150.0</td>\n",
       "      <td>1.0</td>\n",
       "    </tr>\n",
       "    <tr>\n",
       "      <th>5</th>\n",
       "      <td>188.0</td>\n",
       "      <td>85.0</td>\n",
       "      <td>68.0</td>\n",
       "      <td>0.0</td>\n",
       "    </tr>\n",
       "  </tbody>\n",
       "</table>\n",
       "</div>"
      ],
      "text/plain": [
       "   Systolic pressure (mmHg)  Diastolic pressure    BPM  Heart attack\n",
       "1                     122.0                80.0   70.0           0.0\n",
       "2                     153.0               110.0  180.0           1.0\n",
       "3                     162.0                90.0  110.0           0.0\n",
       "4                     183.0               130.0  150.0           1.0\n",
       "5                     188.0                85.0   68.0           0.0"
      ]
     },
     "execution_count": 232,
     "metadata": {},
     "output_type": "execute_result"
    }
   ],
   "source": [
    "data_test.head()"
   ]
  },
  {
   "cell_type": "code",
   "execution_count": 234,
   "id": "e8f79bb9",
   "metadata": {},
   "outputs": [],
   "source": [
    "x_data_test = data_test.drop(\"Heart attack\", axis='columns')\n",
    "#y_data_test = data_test['Heart attack']"
   ]
  },
  {
   "cell_type": "code",
   "execution_count": 235,
   "id": "a636d2ca",
   "metadata": {},
   "outputs": [
    {
     "name": "stdout",
     "output_type": "stream",
     "text": [
      "2/2 [==============================] - 0s 2ms/step\n",
      "Vector 1: [0]\n",
      "Vector 2: [1]\n",
      "Vector 3: [0]\n",
      "Vector 4: [1]\n",
      "Vector 5: [0]\n"
     ]
    }
   ],
   "source": [
    "predictions = model.predict(x)\n",
    "threshold = 0.5\n",
    "binary_predictions = (predictions >= threshold).astype(int)\n",
    "for i in range(5):\n",
    "    print(\"Vector {}: {}\".format(i+1, binary_predictions[i]))"
   ]
  },
  {
   "cell_type": "code",
   "execution_count": 237,
   "id": "38c78745",
   "metadata": {},
   "outputs": [
    {
     "name": "stdout",
     "output_type": "stream",
     "text": [
      "Mean Squared Error (MSE): 0.40\n"
     ]
    }
   ],
   "source": [
    "# Calculate MSE for the first 5 vectors\n",
    "mse = mean_squared_error(y_test[:5], binary_predictions[:5])\n",
    "\n",
    "print(\"Mean Squared Error (MSE): {:.2f}\".format(mse))"
   ]
  },
  {
   "cell_type": "code",
   "execution_count": 192,
   "id": "a0c40a54",
   "metadata": {},
   "outputs": [
    {
     "name": "stdout",
     "output_type": "stream",
     "text": [
      "1/1 [==============================] - 0s 13ms/step\n",
      "Classification error: 5.56%\n"
     ]
    },
    {
     "name": "stderr",
     "output_type": "stream",
     "text": [
      "C:\\Users\\brian\\AppData\\Local\\Temp\\ipykernel_19156\\776597830.py:8: DeprecationWarning: elementwise comparison failed; this will raise an error in the future.\n",
      "  misclassified = np.sum(y_pred.flatten() != y_test.values.flatten())\n"
     ]
    }
   ],
   "source": [
    "# Assuming you have already trained your model and obtained the x_test and y_test data\n",
    "\n",
    "# Make predictions on the test set\n",
    "y_pred_prob = model.predict(x_data_test)\n",
    "y_pred = (y_pred_prob >= 0.5).astype(int)  # Convert probabilities to class labels using a threshold\n",
    "\n",
    "# Compute the classification error\n",
    "misclassified = np.sum(y_pred.flatten() != y_test.values.flatten())\n",
    "classification_error = misclassified / len(y_test)\n",
    "\n",
    "print(\"Classification error: {:.2%}\".format(classification_error))"
   ]
  },
  {
   "cell_type": "code",
   "execution_count": null,
   "id": "a9bb1079",
   "metadata": {},
   "outputs": [],
   "source": []
  },
  {
   "cell_type": "code",
   "execution_count": null,
   "id": "fc3f20ff",
   "metadata": {},
   "outputs": [],
   "source": []
  }
 ],
 "metadata": {
  "kernelspec": {
   "display_name": "Python 3 (ipykernel)",
   "language": "python",
   "name": "python3"
  },
  "language_info": {
   "codemirror_mode": {
    "name": "ipython",
    "version": 3
   },
   "file_extension": ".py",
   "mimetype": "text/x-python",
   "name": "python",
   "nbconvert_exporter": "python",
   "pygments_lexer": "ipython3",
   "version": "3.9.12"
  }
 },
 "nbformat": 4,
 "nbformat_minor": 5
}
